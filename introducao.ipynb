{
 "cells": [
  {
   "cell_type": "markdown",
   "source": [
    "# Aprendizado da Linguagem Python\n",
    "## Curso: Fundamentos de Python\n",
    "## Instituição: COD3R\n",
    "\n",
    "\n",
    "### Aprendizado\n",
    "Diretório criado para armezar os dados referentes ao aprendizado de alguns conceitos da linguagem. Possui informações da estrutura da linguagem e algumas bibliotecas de tratamento de dados.\n",
    "\n",
    "### Aula 01:\n",
    "**Tipos de dados**: Ptyhon é uma linguagem dinamica, ou seja, o interpretador da linguagem consegue identificar qual o tipo da variável está sendo usada.\n",
    "O tipo da variável pode mudar durante a execução do programa então é necessário atenção nesse caso.\n",
    "\n",
    "Arquivo: *fundamentos/tipos-dados*\n",
    "### Aula 02:\n",
    "**Comentários**: Comentários são usados para agregar valor ao código.\n",
    "\n",
    "Arquivo: *fundamentos/comentarios*\n",
    "### Aula 03:\n",
    "**Operadores Aritméticos**: Operadores aritméticos são usados pela matemática para realizar calculos.\n",
    "Arquivo: *fundamentos/operadores*\n",
    "\n",
    "### Aula 04:\n",
    "**Conversão de Tipos**: Permite alterar o tipo de uma variável através das funções;\n",
    "Arquivo: *fundamentos/conversao*\n",
    "\n",
    "### Aula 05:\n",
    "**Strings**: Strings são tipos de dados que armazenam variáveis como textos.\n",
    "Arquivo: *fundamentos/strings*\n",
    "\n",
    "### Aula 06:\n",
    "**Listas**: Listas em python armazenam vários valores, trabalhando como se fosse uma string.\n",
    "Arquivo: *fundamentos/listas*\n",
    "\n",
    "### Aula 07:\n",
    "**Tuplas**: Tuplas trabalham como listas mas são imutáveis,não permitindo modificações após sua definição.\n",
    "Arquivo: *fundamentos/tuplas*\n",
    "\n",
    "### Aula 08:\n",
    "**Dicionarios**: Dicionarios são estruturas indexas por chave e valor.\n",
    "Arquivo: *fundamentos/dicionarios*\n",
    "\n",
    "### Aula 09:\n",
    "**Conjuntos**: Conjuntos são estruturas não ordenadas que não possuem repetição de valores.\n",
    "Arquivo: *fundamentos/conjuntos*"
   ],
   "metadata": {
    "collapsed": false
   }
  }
 ],
 "metadata": {
  "kernelspec": {
   "display_name": "Python 3",
   "language": "python",
   "name": "python3"
  },
  "language_info": {
   "codemirror_mode": {
    "name": "ipython",
    "version": 2
   },
   "file_extension": ".py",
   "mimetype": "text/x-python",
   "name": "python",
   "nbconvert_exporter": "python",
   "pygments_lexer": "ipython2",
   "version": "2.7.6"
  }
 },
 "nbformat": 4,
 "nbformat_minor": 0
}