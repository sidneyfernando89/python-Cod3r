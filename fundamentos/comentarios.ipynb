{
 "cells": [
  {
   "cell_type": "markdown",
   "metadata": {
    "collapsed": true,
    "pycharm": {
     "name": "#%% md\n"
    }
   },
   "source": [
    "# Comentários\n",
    "\n",
    "Os comentários podem ser feitos atraves do caractere #, esse tipo de comentário é usado comente para 1 linha;\n",
    "Para realizar um comentário de multiplas linhas devem ser usados \"\"\" ou '''. Os comentários não são apresentados na\n",
    "saída do código."
   ]
  },
  {
   "cell_type": "code",
   "execution_count": null,
   "outputs": [],
   "source": [
    "#comentario de uma linha\n",
    "'''\n",
    "comentário de várias linhas forma 1\n",
    "'''\n",
    "\"\"\"\n",
    "comentário de várias linhas forma 2\n",
    "\"\"\""
   ],
   "metadata": {
    "collapsed": false,
    "pycharm": {
     "name": "#%%\n"
    }
   }
  }
 ],
 "metadata": {
  "kernelspec": {
   "display_name": "Python 3",
   "language": "python",
   "name": "python3"
  },
  "language_info": {
   "codemirror_mode": {
    "name": "ipython",
    "version": 2
   },
   "file_extension": ".py",
   "mimetype": "text/x-python",
   "name": "python",
   "nbconvert_exporter": "python",
   "pygments_lexer": "ipython2",
   "version": "2.7.6"
  }
 },
 "nbformat": 4,
 "nbformat_minor": 0
}