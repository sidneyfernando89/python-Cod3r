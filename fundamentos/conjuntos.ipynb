{
 "cells": [
  {
   "cell_type": "markdown",
   "metadata": {
    "collapsed": true,
    "pycharm": {
     "name": "#%% md\n"
    }
   },
   "source": [
    "# Conjuntos\n",
    "Conjuntos são similares as listas e dicionários mas diferente desses não permite repetição de itens.\n",
    "Um conjunto possui as seguintes caracteristicas.\n",
    "* Um conjunto é uma coleção não ordenada e indexada\n",
    "* Os itens definidos não são ordenados, não podem ser alterados e não permitem valores duplicados.\n",
    "* Os conjuntos são imutáveis, o que significa que não podemos alterar os itens após a criação do conjunto.\n",
    "* Os conjuntos não podem ter dois itens com o mesmo valor.\n",
    "* Um conjunto pode conter diferentes tipos de dados\n",
    "\n",
    "# Definição Conjuntos\n",
    "O conjunto pode ser definido por {}"
   ]
  },
  {
   "cell_type": "code",
   "execution_count": 12,
   "outputs": [],
   "source": [
    "conjunto = set()\n",
    "conjunto1 = {'Luiz', 'Sidney', 'Laura'}\n",
    "conjunto2 = set(('Miguel','Luiz', 'Sidney', 'Laura'))"
   ],
   "metadata": {
    "collapsed": false,
    "pycharm": {
     "name": "#%%"
    }
   }
  },
  {
   "cell_type": "markdown",
   "source": [
    "## Principais Operações\n",
    "Conjuntos possuem vários métodos nativos úteis."
   ],
   "metadata": {
    "collapsed": false
   }
  },
  {
   "cell_type": "markdown",
   "source": [
    "### Verificando os tipos"
   ],
   "metadata": {
    "collapsed": false
   }
  },
  {
   "cell_type": "code",
   "execution_count": 4,
   "outputs": [
    {
     "name": "stdout",
     "output_type": "stream",
     "text": [
      "<class 'set'>\n",
      "<class 'set'>\n",
      "<class 'set'>\n"
     ]
    }
   ],
   "source": [
    "print(type(conjunto))\n",
    "print(type(conjunto1))\n",
    "print(type(conjunto2))"
   ],
   "metadata": {
    "collapsed": false,
    "pycharm": {
     "name": "#%%\n"
    }
   }
  },
  {
   "cell_type": "markdown",
   "source": [
    "### Imprimindo valores"
   ],
   "metadata": {
    "collapsed": false
   }
  },
  {
   "cell_type": "code",
   "execution_count": 10,
   "outputs": [
    {
     "name": "stdout",
     "output_type": "stream",
     "text": [
      "{'Sidney', 'u', 'r', 'L', 'i', 'd', 'y', 'S', 'a', 'n', 'e'}\n",
      "{'Luiz', 'Laura', 'Sidney'}\n",
      "{'Luiz', 'Laura', 'Miguel', 'Sidney'}\n"
     ]
    }
   ],
   "source": [
    "print(f'{conjunto}')\n",
    "print(f'{conjunto1}')\n",
    "print(f'{conjunto2}')"
   ],
   "metadata": {
    "collapsed": false,
    "pycharm": {
     "name": "#%%\n"
    }
   }
  },
  {
   "cell_type": "markdown",
   "source": [
    "### Função *add*\n",
    "Inclui um dado em um conjunto"
   ],
   "metadata": {
    "collapsed": false
   }
  },
  {
   "cell_type": "code",
   "execution_count": 15,
   "outputs": [
    {
     "name": "stdout",
     "output_type": "stream",
     "text": [
      "Esse é o conjunto: {'a'}\n",
      "Como ficou o conjunto: {'a', 'Sidney'}\n"
     ]
    }
   ],
   "source": [
    "print(f'Esse é o conjunto: {conjunto}')\n",
    "conjunto.add('Sidney')\n",
    "print(f'Como ficou o conjunto: {conjunto}')"
   ],
   "metadata": {
    "collapsed": false,
    "pycharm": {
     "name": "#%%\n"
    }
   }
  },
  {
   "cell_type": "markdown",
   "source": [
    "### Função *update*\n",
    "Atualiza o dado de um conjunto"
   ],
   "metadata": {
    "collapsed": false
   }
  },
  {
   "cell_type": "code",
   "execution_count": 16,
   "outputs": [
    {
     "name": "stdout",
     "output_type": "stream",
     "text": [
      "Esse é o conjunto: {'a', 'Sidney'}\n",
      "Como ficou o conjunto: {'a', 'Sidney'}\n"
     ]
    }
   ],
   "source": [
    "print(f'Esse é o conjunto: {conjunto}')\n",
    "conjunto.update(conjunto, 'a')\n",
    "print(f'Como ficou o conjunto: {conjunto}')"
   ],
   "metadata": {
    "collapsed": false,
    "pycharm": {
     "name": "#%%\n"
    }
   }
  },
  {
   "cell_type": "markdown",
   "source": [
    "### Função *discard*\n",
    "Usada para remover um valor do conjunto"
   ],
   "metadata": {
    "collapsed": false
   }
  },
  {
   "cell_type": "code",
   "execution_count": 17,
   "outputs": [
    {
     "name": "stdout",
     "output_type": "stream",
     "text": [
      "Esse é o conjunto: {'a', 'Sidney'}\n",
      "Como ficou o conjunto: {'Sidney'}\n"
     ]
    }
   ],
   "source": [
    "print(f'Esse é o conjunto: {conjunto}')\n",
    "conjunto.discard('a')\n",
    "print(f'Como ficou o conjunto: {conjunto}')"
   ],
   "metadata": {
    "collapsed": false,
    "pycharm": {
     "name": "#%%\n"
    }
   }
  },
  {
   "cell_type": "markdown",
   "source": [
    "### Função *remove*\n",
    "Usada para remover um valor do conjunto"
   ],
   "metadata": {
    "collapsed": false
   }
  },
  {
   "cell_type": "code",
   "execution_count": 18,
   "outputs": [
    {
     "name": "stdout",
     "output_type": "stream",
     "text": [
      "Esse é o conjunto: {'Laura', 'Sidney'}\n",
      "Como ficou o conjunto: {'Sidney'}\n"
     ]
    }
   ],
   "source": [
    "conjunto.add('Laura')\n",
    "print(f'Esse é o conjunto: {conjunto}')\n",
    "conjunto.remove('Laura')\n",
    "print(f'Como ficou o conjunto: {conjunto}')"
   ],
   "metadata": {
    "collapsed": false,
    "pycharm": {
     "name": "#%%\n"
    }
   }
  },
  {
   "cell_type": "markdown",
   "source": [
    "### Função *pop*\n",
    "Usada para remover um valor do conjunto"
   ],
   "metadata": {
    "collapsed": false
   }
  },
  {
   "cell_type": "code",
   "execution_count": 19,
   "outputs": [
    {
     "name": "stdout",
     "output_type": "stream",
     "text": [
      "Esse é o conjunto: {'Laura', 'Sidney'}\n",
      "Como ficou o conjunto: {'Sidney'}\n"
     ]
    }
   ],
   "source": [
    "conjunto.add('Laura')\n",
    "print(f'Esse é o conjunto: {conjunto}')\n",
    "conjunto.pop()\n",
    "print(f'Como ficou o conjunto: {conjunto}')"
   ],
   "metadata": {
    "collapsed": false,
    "pycharm": {
     "name": "#%%\n"
    }
   }
  },
  {
   "cell_type": "markdown",
   "source": [
    "### Função *clear*\n",
    "Usada para limpar todos os dados de um conjunto"
   ],
   "metadata": {
    "collapsed": false
   }
  },
  {
   "cell_type": "code",
   "execution_count": 20,
   "outputs": [
    {
     "name": "stdout",
     "output_type": "stream",
     "text": [
      "Esse é o conjunto: {'Laura', 'Sidney'}\n",
      "Como ficou o conjunto: set()\n"
     ]
    }
   ],
   "source": [
    "conjunto.add('Laura')\n",
    "print(f'Esse é o conjunto: {conjunto}')\n",
    "conjunto.clear()\n",
    "print(f'Como ficou o conjunto: {conjunto}')"
   ],
   "metadata": {
    "collapsed": false,
    "pycharm": {
     "name": "#%%\n"
    }
   }
  },
  {
   "cell_type": "markdown",
   "source": [
    "### Função *len*\n",
    "Retorna o tamanho de um conjunto"
   ],
   "metadata": {
    "collapsed": false
   }
  },
  {
   "cell_type": "code",
   "execution_count": 22,
   "outputs": [
    {
     "name": "stdout",
     "output_type": "stream",
     "text": [
      "Esse é o conjunto: {'Luiz', 'Laura', 'Sidney'}\n",
      "Esse é o tamanho do conjunto 3\n"
     ]
    }
   ],
   "source": [
    "conjunto.add('Laura')\n",
    "conjunto.add('Sidney')\n",
    "conjunto.add('Luiz')\n",
    "print(f'Esse é o conjunto: {conjunto}')\n",
    "print(f'Esse é o tamanho do conjunto {len(conjunto)}')"
   ],
   "metadata": {
    "collapsed": false,
    "pycharm": {
     "name": "#%%\n"
    }
   }
  },
  {
   "cell_type": "markdown",
   "source": [
    "### Função *max*\n",
    "Retorna o maior valor de um conjunto"
   ],
   "metadata": {
    "collapsed": false
   }
  },
  {
   "cell_type": "code",
   "execution_count": 23,
   "outputs": [
    {
     "name": "stdout",
     "output_type": "stream",
     "text": [
      "Esse é o conjunto: {'Luiz', 'Laura', 'Sidney'}\n",
      "Esse é o maior valor do conjunto Sidney\n"
     ]
    }
   ],
   "source": [
    "print(f'Esse é o conjunto: {conjunto}')\n",
    "print(f'Esse é o maior valor do conjunto {max(conjunto)}')"
   ],
   "metadata": {
    "collapsed": false,
    "pycharm": {
     "name": "#%%\n"
    }
   }
  },
  {
   "cell_type": "markdown",
   "source": [
    "### Função *min*\n",
    "Retorna o menor valor do conjunto"
   ],
   "metadata": {
    "collapsed": false
   }
  },
  {
   "cell_type": "code",
   "execution_count": 24,
   "outputs": [
    {
     "name": "stdout",
     "output_type": "stream",
     "text": [
      "Esse é o conjunto: {'Luiz', 'Laura', 'Sidney'}\n",
      "Esse é o menor valor do conjunto Laura\n"
     ]
    }
   ],
   "source": [
    "print(f'Esse é o conjunto: {conjunto}')\n",
    "print(f'Esse é o menor valor do conjunto {min(conjunto)}')"
   ],
   "metadata": {
    "collapsed": false,
    "pycharm": {
     "name": "#%%\n"
    }
   }
  },
  {
   "cell_type": "markdown",
   "source": [
    "### Função *sorted*\n",
    "Ordena os dados do conjunto"
   ],
   "metadata": {
    "collapsed": false
   }
  },
  {
   "cell_type": "code",
   "execution_count": 30,
   "outputs": [
    {
     "name": "stdout",
     "output_type": "stream",
     "text": [
      "Esse é o conjunto: {'Luiz', 'Laura', 'Sidney'}\n",
      "Esse é o conjunto Ordenado: ['Laura', 'Luiz', 'Sidney']\n",
      "Esse é o conjunto Ordenado Reverso: ['Sidney', 'Luiz', 'Laura']\n"
     ]
    }
   ],
   "source": [
    "print(f'Esse é o conjunto: {conjunto}')\n",
    "print(f'Esse é o conjunto Ordenado: {sorted(conjunto)}')\n",
    "print(f'Esse é o conjunto Ordenado Reverso: {sorted(conjunto, reverse=True)}')"
   ],
   "metadata": {
    "collapsed": false,
    "pycharm": {
     "name": "#%%\n"
    }
   }
  },
  {
   "cell_type": "markdown",
   "source": [
    "### Função *sum*\n",
    "Retorna a soma de todos os objetos do conjunto"
   ],
   "metadata": {
    "collapsed": false
   }
  },
  {
   "cell_type": "code",
   "execution_count": 34,
   "outputs": [
    {
     "name": "stdout",
     "output_type": "stream",
     "text": [
      "Esse é o conjunto: {1, 2, 3, 4, 5}\n",
      "Esse é o conjunto : 15\n"
     ]
    }
   ],
   "source": [
    "conjunto3 = set((1, 2, 3, 4, 5))\n",
    "print(f'Esse é o conjunto: {conjunto3}')\n",
    "print(f'Esse é o conjunto : {sum(conjunto3)}')"
   ],
   "metadata": {
    "collapsed": false,
    "pycharm": {
     "name": "#%%\n"
    }
   }
  },
  {
   "cell_type": "markdown",
   "source": [
    "## Particulariedade\n",
    "Conjuntos possuem operações proprias."
   ],
   "metadata": {
    "collapsed": false
   }
  },
  {
   "cell_type": "markdown",
   "source": [
    "### Função *union*\n",
    "União pode ser feita através do operador | ou função *union*"
   ],
   "metadata": {
    "collapsed": false
   }
  },
  {
   "cell_type": "code",
   "execution_count": 36,
   "outputs": [
    {
     "name": "stdout",
     "output_type": "stream",
     "text": [
      "Esse é o conjunto1 {'Luiz', 'Laura', 'Sidney'}\n",
      "Esse é o conjunto2 {'Luiz', 'Laura', 'Miguel', 'Sidney'}\n",
      "Essa é a união entre eles {'Miguel', 'Sidney', 'Luiz', 'Laura'}\n"
     ]
    }
   ],
   "source": [
    "print(f'Esse é o conjunto1 {conjunto1}')\n",
    "print(f'Esse é o conjunto2 {conjunto2}')\n",
    "print(f'Essa é a união entre eles {conjunto1 | conjunto2}')"
   ],
   "metadata": {
    "collapsed": false,
    "pycharm": {
     "name": "#%%\n"
    }
   }
  },
  {
   "cell_type": "markdown",
   "source": [
    "### Função *intersection*\n",
    "Intersecção pode ser feita através do operador & ou função *intersection*"
   ],
   "metadata": {
    "collapsed": false
   }
  },
  {
   "cell_type": "code",
   "execution_count": 37,
   "outputs": [
    {
     "name": "stdout",
     "output_type": "stream",
     "text": [
      "Esse é o conjunto1 {'Luiz', 'Laura', 'Sidney'}\n",
      "Esse é o conjunto2 {'Luiz', 'Laura', 'Miguel', 'Sidney'}\n",
      "Essa é a intersecção entre eles {'Luiz', 'Laura', 'Sidney'}\n"
     ]
    }
   ],
   "source": [
    "print(f'Esse é o conjunto1 {conjunto1}')\n",
    "print(f'Esse é o conjunto2 {conjunto2}')\n",
    "print(f'Essa é a intersecção entre eles {conjunto1 & conjunto2}')"
   ],
   "metadata": {
    "collapsed": false,
    "pycharm": {
     "name": "#%%\n"
    }
   }
  },
  {
   "cell_type": "markdown",
   "source": [
    "### Função *difference*\n",
    "Diferença  pode ser feita através do operador - ou função *difference*"
   ],
   "metadata": {
    "collapsed": false
   }
  },
  {
   "cell_type": "code",
   "execution_count": 40,
   "outputs": [
    {
     "name": "stdout",
     "output_type": "stream",
     "text": [
      "Esse é o conjunto1 {'Luiz', 'Laura', 'Sidney'}\n",
      "Esse é o conjunto2 {'Luiz', 'Laura', 'Miguel', 'Sidney'}\n",
      "Essa é a diferença entre eles {'Miguel'}\n"
     ]
    }
   ],
   "source": [
    "print(f'Esse é o conjunto1 {conjunto1}')\n",
    "print(f'Esse é o conjunto2 {conjunto2}')\n",
    "print(f'Essa é a diferença entre eles {conjunto2 - conjunto1}')"
   ],
   "metadata": {
    "collapsed": false,
    "pycharm": {
     "name": "#%%\n"
    }
   }
  },
  {
   "cell_type": "markdown",
   "source": [
    "### Função *symmetric_difference*\n",
    "Diferença Simétrica pode ser feita através do operador ^ ou função *symmetric_difference*"
   ],
   "metadata": {
    "collapsed": false
   }
  },
  {
   "cell_type": "code",
   "execution_count": 41,
   "outputs": [
    {
     "name": "stdout",
     "output_type": "stream",
     "text": [
      "Esse é o conjunto1 {'Luiz', 'Laura', 'Sidney'}\n",
      "Esse é o conjunto2 {'Luiz', 'Laura', 'Miguel', 'Sidney'}\n",
      "Essa é a intersecção entre eles {'Miguel'}\n"
     ]
    }
   ],
   "source": [
    "print(f'Esse é o conjunto1 {conjunto1}')\n",
    "print(f'Esse é o conjunto2 {conjunto2}')\n",
    "print(f'Essa é a intersecção entre eles {conjunto1 ^ conjunto2}')"
   ],
   "metadata": {
    "collapsed": false,
    "pycharm": {
     "name": "#%%\n"
    }
   }
  }
 ],
 "metadata": {
  "kernelspec": {
   "display_name": "Python 3",
   "language": "python",
   "name": "python3"
  },
  "language_info": {
   "codemirror_mode": {
    "name": "ipython",
    "version": 2
   },
   "file_extension": ".py",
   "mimetype": "text/x-python",
   "name": "python",
   "nbconvert_exporter": "python",
   "pygments_lexer": "ipython2",
   "version": "2.7.6"
  }
 },
 "nbformat": 4,
 "nbformat_minor": 0
}