{
 "cells": [
  {
   "cell_type": "markdown",
   "metadata": {
    "collapsed": true,
    "pycharm": {
     "name": "#%% md\n"
    }
   },
   "source": [
    "# Strings\n",
    "As strings em python são tratadas como nas demais linguagens de programação, são atribuídas as variáveis ou impressoras\n",
    "de forma direta. Uma string é indexada como um array, nesse aspecto cada letra é atruída a uma posição. Você pode usar\n",
    "atribuição com aspas simples ou duplas.\n"
   ]
  },
  {
   "cell_type": "markdown",
   "source": [
    "## Atribuição\n",
    "Podem ser usada aspas simples, aspas duplas ou aspas triplhas"
   ],
   "metadata": {
    "collapsed": false
   }
  },
  {
   "cell_type": "code",
   "execution_count": 2,
   "outputs": [
    {
     "name": "stdout",
     "output_type": "stream",
     "text": [
      "Ola Luiz Fernando\n",
      "Ola Lopes Almeida\n",
      "Ola Luiz Fernando Lopes Almeida\n",
      "\n",
      "Um texto com \n",
      "varias linhas\n",
      "\n"
     ]
    }
   ],
   "source": [
    "nome = \"Luiz Fernando\"\n",
    "print(f'Ola {nome}')\n",
    "\n",
    "sobrenome = 'Lopes Almeida'\n",
    "print(f'Ola {sobrenome}')\n",
    "\n",
    "texto = \"\"\"\n",
    "Um texto com\n",
    "varias linhas\n",
    "\"\"\"\n",
    "print(f'{texto}')"
   ],
   "metadata": {
    "collapsed": false,
    "pycharm": {
     "name": "#%%\n"
    }
   }
  },
  {
   "cell_type": "markdown",
   "source": [
    "## Concatenação\n",
    "textos podem ser concanenados usado o atributo +"
   ],
   "metadata": {
    "collapsed": false
   }
  },
  {
   "cell_type": "code",
   "execution_count": null,
   "outputs": [],
   "source": [
    "nome_completo = nome + \" \" + sobrenome\n",
    "print(f'Ola {nome_completo}')\n"
   ],
   "metadata": {
    "collapsed": false,
    "pycharm": {
     "name": "#%%\n"
    }
   }
  },
  {
   "cell_type": "markdown",
   "source": [
    "## Verificando se existe em uma string\n",
    "É possivel verificar se existe um texto ou trecho dentro de uma string através da função *in*, essa função retorna um\n",
    "booleano de verdadeiro ou falso caso encontre."
   ],
   "metadata": {
    "collapsed": false
   }
  },
  {
   "cell_type": "code",
   "execution_count": 6,
   "outputs": [
    {
     "name": "stdout",
     "output_type": "stream",
     "text": [
      "Luiz está presente no nome\n"
     ]
    }
   ],
   "source": [
    "if \"Luiz\" in nome_completo:\n",
    "    print(f\"Luiz está presente no nome\")\n",
    "else:\n",
    "    print(f\"Não existe no nome\")"
   ],
   "metadata": {
    "collapsed": false,
    "pycharm": {
     "name": "#%%\n"
    }
   }
  },
  {
   "cell_type": "markdown",
   "source": [
    "## String como Array\n",
    "Toda string é tratada como um array, suas letras são indexadas e cada uma delas recebe uma posição"
   ],
   "metadata": {
    "collapsed": false,
    "pycharm": {
     "name": "#%% md\n"
    }
   }
  },
  {
   "cell_type": "code",
   "execution_count": null,
   "outputs": [],
   "source": [
    "print(f\"{nome_completo[0]}\")\n",
    "print(f\"{nome_completo[1]}\")\n",
    "print(f\"{nome_completo[0:5]}\")"
   ],
   "metadata": {
    "collapsed": false,
    "pycharm": {
     "name": "#%%\n"
    }
   }
  },
  {
   "cell_type": "markdown",
   "source": [
    "## Fatiando uma string\n",
    "Também é possível fatiar uma string."
   ],
   "metadata": {
    "collapsed": false
   }
  },
  {
   "cell_type": "code",
   "execution_count": 10,
   "outputs": [
    {
     "name": "stdout",
     "output_type": "stream",
     "text": [
      " O nome fatiado foi Luiz \n"
     ]
    }
   ],
   "source": [
    "nome = nome_completo[0:5]\n",
    "print(f\" O nome fatiado foi {nome}\")\n"
   ],
   "metadata": {
    "collapsed": false,
    "pycharm": {
     "name": "#%%\n"
    }
   }
  },
  {
   "cell_type": "markdown",
   "source": [
    "## Funções mais comuns\n",
    "String assim como outros tipos em python possui uma biblioteca rápida de funções que já vem prontas para o uso, vejamos\n",
    "alguns exemplos."
   ],
   "metadata": {
    "collapsed": false
   }
  },
  {
   "cell_type": "markdown",
   "source": [
    "### Tamanho de uma string\n",
    "Toda string possui um tamanho, esse tamanho pode ser obtido atraves da função *len()*"
   ],
   "metadata": {
    "collapsed": false
   }
  },
  {
   "cell_type": "code",
   "execution_count": null,
   "outputs": [],
   "source": [
    "print(f'O quantidade de letras do nome completo é {len(nome_completo)}')"
   ],
   "metadata": {
    "collapsed": false,
    "pycharm": {
     "name": "#%%\n"
    }
   }
  },
  {
   "cell_type": "markdown",
   "source": [
    "### Maiúsculas e Minusculas\n",
    "É possivel deixar em letars maiusculas atraves da função *upper()* e minusculas atraves da função *lower*"
   ],
   "metadata": {
    "collapsed": false
   }
  },
  {
   "cell_type": "code",
   "execution_count": 14,
   "outputs": [
    {
     "name": "stdout",
     "output_type": "stream",
     "text": [
      "Maiúsculas LUIZ FERNANDO LOPES ALMEIDA\n",
      "Minusculas luiz fernando lopes almeida\n",
      "Capitalizada Luiz fernando lopes almeida\n"
     ]
    }
   ],
   "source": [
    "print(f\"Maiúsculas {nome_completo.upper()}\")\n",
    "print(f\"Minusculas {nome_completo.lower()}\")\n",
    "print(f\"Capitalizada {nome_completo.capitalize()}\")"
   ],
   "metadata": {
    "collapsed": false,
    "pycharm": {
     "name": "#%%\n"
    }
   }
  },
  {
   "cell_type": "markdown",
   "source": [
    "### Conversão para String\n",
    "É possivel converter outros formatos para string atraves da função *str*"
   ],
   "metadata": {
    "collapsed": false
   }
  },
  {
   "cell_type": "code",
   "execution_count": 13,
   "outputs": [
    {
     "name": "stdout",
     "output_type": "stream",
     "text": [
      "O tipo da variável é: <class 'int'> e apos a conversao fica <class 'str'>\n"
     ]
    }
   ],
   "source": [
    "numero  = 123\n",
    "print(f\"O tipo da variável é: {type(numero)} e apos a conversao fica {type(str(numero))}\")\n"
   ],
   "metadata": {
    "collapsed": false,
    "pycharm": {
     "name": "#%%\n"
    }
   }
  },
  {
   "cell_type": "markdown",
   "source": [
    "### Verifica se existe algo que não seja letra\n",
    "É possivel verificar se existe algum caractere que não seja uma letra atraves da função *isalpha*\n",
    "Essa função retorna verdadeirou ou falso."
   ],
   "metadata": {
    "collapsed": false
   }
  },
  {
   "cell_type": "code",
   "execution_count": 15,
   "outputs": [
    {
     "name": "stdout",
     "output_type": "stream",
     "text": [
      "False\n"
     ]
    }
   ],
   "source": [
    "print(f\"{nome_completo.isalpha()}\")\n"
   ],
   "metadata": {
    "collapsed": false,
    "pycharm": {
     "name": "#%%\n"
    }
   }
  },
  {
   "cell_type": "markdown",
   "source": [
    "### Remover espaços em branco\n",
    "É possível remover espaços em branco no começo e no fim atraves da função *strip*"
   ],
   "metadata": {
    "collapsed": false
   }
  },
  {
   "cell_type": "code",
   "execution_count": 16,
   "outputs": [
    {
     "name": "stdout",
     "output_type": "stream",
     "text": [
      "Luiz Fernando Lopes Almeida\n"
     ]
    }
   ],
   "source": [
    "print(f\"{nome_completo.strip()}\")\n"
   ],
   "metadata": {
    "collapsed": false,
    "pycharm": {
     "name": "#%%\n"
    }
   }
  },
  {
   "cell_type": "markdown",
   "source": [
    "### Juntar itens com um delimitador\n",
    "É possível acrescentar um delimitador entre os itens atraves da função *join*"
   ],
   "metadata": {
    "collapsed": false
   }
  },
  {
   "cell_type": "code",
   "execution_count": 17,
   "outputs": [
    {
     "name": "stdout",
     "output_type": "stream",
     "text": [
      "L-u-i-z- -F-e-r-n-a-n-d-o- -L-o-p-e-s- -A-l-m-e-i-d-a\n"
     ]
    }
   ],
   "source": [
    "print(f\"{'-'.join(nome_completo)}\")"
   ],
   "metadata": {
    "collapsed": false,
    "pycharm": {
     "name": "#%%\n"
    }
   }
  }
 ],
 "metadata": {
  "kernelspec": {
   "display_name": "Python 3",
   "language": "python",
   "name": "python3"
  },
  "language_info": {
   "codemirror_mode": {
    "name": "ipython",
    "version": 2
   },
   "file_extension": ".py",
   "mimetype": "text/x-python",
   "name": "python",
   "nbconvert_exporter": "python",
   "pygments_lexer": "ipython2",
   "version": "2.7.6"
  }
 },
 "nbformat": 4,
 "nbformat_minor": 0
}