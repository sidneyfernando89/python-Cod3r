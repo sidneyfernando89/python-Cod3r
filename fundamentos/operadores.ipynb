{
 "cells": [
  {
   "cell_type": "markdown",
   "source": [
    "# Operadores\n",
    "\n",
    "## Operadores Aritmeticos\n",
    "Os operadores são usados na matemática para realizar calculos. Existem operadores infix, prefix e posfix, cada um deles\n",
    "tem o seu suas formas de uso e vamos falar sobre cada um deles. Os operadores básicos são: Soma (+), Subtração (-), Divisão\n",
    "(/), Multiplicação (*). Existe ainda uma ordem de precedência para as operações, nesse caso a ordem seguida é identica a\n",
    "dá matemática.\n",
    "\n",
    "**Nota1**: Operações matemáticas utilizam os operadores de forma infix.\n",
    "\n",
    "**Nota2**: A ordem de precedência é\n",
    "* Parenteses\n",
    "* Exponenciação\n",
    "* Multiplicação\n",
    "* Divisão\n",
    "* Adição\n",
    "* Subtração\n",
    "\n",
    "\n",
    "Ainda existem alguns termos importantes dentros dos operadores que descrevem como será o comportamento em relação as\n",
    "variáveis, como:\n",
    "\n",
    "* infix: quando o operador está posicionado entre 2 variáveis\n",
    "* prefix: quando o operador está posicionado antes da variável\n",
    "* posfix: quando o operador está posicionado depois da variável\n",
    "\n",
    "Vejamos alguns exemplos"
   ],
   "metadata": {
    "collapsed": false
   }
  },
  {
   "cell_type": "markdown",
   "source": [
    "#### Soma"
   ],
   "metadata": {
    "collapsed": false
   }
  },
  {
   "cell_type": "code",
   "execution_count": 2,
   "outputs": [
    {
     "name": "stdout",
     "output_type": "stream",
     "text": [
      "40\n"
     ]
    }
   ],
   "source": [
    "x, y, z = 10, 10, 20\n",
    "print((x+y)+z)"
   ],
   "metadata": {
    "collapsed": false,
    "pycharm": {
     "name": "#%%\n"
    }
   }
  },
  {
   "cell_type": "markdown",
   "source": [
    "#### Subtração"
   ],
   "metadata": {
    "collapsed": false
   }
  },
  {
   "cell_type": "code",
   "execution_count": 3,
   "outputs": [
    {
     "name": "stdout",
     "output_type": "stream",
     "text": [
      "-160\n"
     ]
    }
   ],
   "source": [
    "x, y, z = 10, 150, 20\n",
    "print((x-y)-z)\n"
   ],
   "metadata": {
    "collapsed": false,
    "pycharm": {
     "name": "#%%\n"
    }
   }
  },
  {
   "cell_type": "markdown",
   "source": [
    "#### Divisão"
   ],
   "metadata": {
    "collapsed": false
   }
  },
  {
   "cell_type": "code",
   "execution_count": 7,
   "outputs": [
    {
     "name": "stdout",
     "output_type": "stream",
     "text": [
      "2.0\n"
     ]
    }
   ],
   "source": [
    "x, y, z = 10, 200, 10\n",
    "print((y/x)/z)\n"
   ],
   "metadata": {
    "collapsed": false,
    "pycharm": {
     "name": "#%%\n"
    }
   }
  },
  {
   "cell_type": "markdown",
   "source": [
    "#### Multiplicação"
   ],
   "metadata": {
    "collapsed": false
   }
  },
  {
   "cell_type": "code",
   "execution_count": 8,
   "outputs": [
    {
     "name": "stdout",
     "output_type": "stream",
     "text": [
      "20000\n"
     ]
    }
   ],
   "source": [
    "x, y, z = 10, 100, 20\n",
    "print((x*y)*z)"
   ],
   "metadata": {
    "collapsed": false,
    "pycharm": {
     "name": "#%%\n"
    }
   }
  },
  {
   "cell_type": "markdown",
   "source": [
    "### Desafio\n",
    "Descobrir a porcentagem de gastos em relação ao salário. Será informado um valor de salário e um valor de gastos mensal.\n",
    "Qual a porcentagem de gastos em relação ao salário?"
   ],
   "metadata": {
    "collapsed": false
   }
  },
  {
   "cell_type": "code",
   "execution_count": 1,
   "outputs": [
    {
     "name": "stdout",
     "output_type": "stream",
     "text": [
      "A porcentagem de gasto mensagem foi de 25.0 %\n"
     ]
    }
   ],
   "source": [
    "salario = float(input(\"Informe o valor de salário: \"))\n",
    "gasto_mensal = float(input(\"Informe o valor de gastos: \"))\n",
    "\n",
    "porcentagem = (gasto_mensal / salario) * 100\n",
    "\n",
    "print(f\"A porcentagem de gasto mensagem foi de {porcentagem} %\")\n"
   ],
   "metadata": {
    "collapsed": false,
    "pycharm": {
     "name": "#%%\n"
    }
   }
  },
  {
   "cell_type": "markdown",
   "source": [
    "## Operadores Relacionais\n",
    "Operadores relacionais são usados para realizar comparações entre variávies, o resultado de um operador relacional será\n",
    "uma expressão booleanda(verdadeiro ou falso). Os Operadores são: Maior (>), Menor(<), Igual(==), Maior ou igual (>=),\n",
    "Menor ou igual (<=), diferente (!=)\n",
    "\n",
    "Vejamos alguns exemplos"
   ],
   "metadata": {
    "collapsed": false,
    "pycharm": {
     "name": "#%% md\n"
    }
   }
  },
  {
   "cell_type": "markdown",
   "source": [
    "#### Maior\n"
   ],
   "metadata": {
    "collapsed": false,
    "pycharm": {
     "name": "#%% md\n"
    }
   }
  },
  {
   "cell_type": "code",
   "execution_count": 2,
   "outputs": [
    {
     "name": "stdout",
     "output_type": "stream",
     "text": [
      "False\n",
      "False\n",
      "True\n"
     ]
    }
   ],
   "source": [
    "print (1 > 2)\n",
    "print (3 > 5)\n",
    "print (7 > 5)"
   ],
   "metadata": {
    "collapsed": false,
    "pycharm": {
     "name": "#%%\n"
    }
   }
  },
  {
   "cell_type": "markdown",
   "source": [
    "#### Menor"
   ],
   "metadata": {
    "collapsed": false
   }
  },
  {
   "cell_type": "code",
   "execution_count": 3,
   "outputs": [
    {
     "name": "stdout",
     "output_type": "stream",
     "text": [
      "True\n",
      "False\n",
      "False\n"
     ]
    }
   ],
   "source": [
    "print (1 < 2)\n",
    "print (3 < 1)\n",
    "print (7 < 5)\n"
   ],
   "metadata": {
    "collapsed": false,
    "pycharm": {
     "name": "#%%\n"
    }
   }
  },
  {
   "cell_type": "markdown",
   "source": [
    "#### Igualdade"
   ],
   "metadata": {
    "collapsed": false
   }
  },
  {
   "cell_type": "code",
   "execution_count": 4,
   "outputs": [
    {
     "name": "stdout",
     "output_type": "stream",
     "text": [
      "False\n",
      "False\n",
      "True\n"
     ]
    }
   ],
   "source": [
    "print (1 == 2)\n",
    "print (3 == 1)\n",
    "print (7 == 7)\n"
   ],
   "metadata": {
    "collapsed": false,
    "pycharm": {
     "name": "#%%\n"
    }
   }
  },
  {
   "cell_type": "markdown",
   "source": [
    "#### Menor ou Igual"
   ],
   "metadata": {
    "collapsed": false
   }
  },
  {
   "cell_type": "code",
   "execution_count": 5,
   "outputs": [
    {
     "name": "stdout",
     "output_type": "stream",
     "text": [
      "True\n",
      "False\n",
      "True\n"
     ]
    }
   ],
   "source": [
    "print (1 <= 2)\n",
    "print (3 <= 1)\n",
    "print (7 <= 7)\n"
   ],
   "metadata": {
    "collapsed": false,
    "pycharm": {
     "name": "#%%\n"
    }
   }
  },
  {
   "cell_type": "markdown",
   "source": [
    "#### Maior ou Igual"
   ],
   "metadata": {
    "collapsed": false
   }
  },
  {
   "cell_type": "code",
   "execution_count": 6,
   "outputs": [
    {
     "name": "stdout",
     "output_type": "stream",
     "text": [
      "False\n",
      "True\n",
      "True\n"
     ]
    }
   ],
   "source": [
    "print (1 >= 2)\n",
    "print (3 >= 1)\n",
    "print (7 >= 7)\n"
   ],
   "metadata": {
    "collapsed": false,
    "pycharm": {
     "name": "#%%\n"
    }
   }
  },
  {
   "cell_type": "markdown",
   "source": [
    "#### Diferente"
   ],
   "metadata": {
    "collapsed": false
   }
  },
  {
   "cell_type": "code",
   "execution_count": 7,
   "outputs": [
    {
     "name": "stdout",
     "output_type": "stream",
     "text": [
      "True\n",
      "True\n",
      "False\n"
     ]
    }
   ],
   "source": [
    "print (1 != 2)\n",
    "print (3 != 1)\n",
    "print (7 != 7)\n"
   ],
   "metadata": {
    "collapsed": false,
    "pycharm": {
     "name": "#%%\n"
    }
   }
  },
  {
   "cell_type": "markdown",
   "source": [
    "## Operadores Lógicos\n",
    "Operadores são usado para realizar comparações entre variáveis, o resultado dessa comparação é boleano (verdadeiro ou\n",
    "falso). Os Operadores são And, Or, Not,\n",
    "\n",
    "Vejamos alguns exemplos"
   ],
   "metadata": {
    "collapsed": false
   }
  },
  {
   "cell_type": "markdown",
   "source": [
    "#### And\n",
    "Usado para unir 2 comparações, ambos os resultados devem ser verdadeiros para que a comparação deja dada como verdadeira\n"
   ],
   "metadata": {
    "collapsed": false
   }
  },
  {
   "cell_type": "code",
   "execution_count": 15,
   "outputs": [
    {
     "name": "stdout",
     "output_type": "stream",
     "text": [
      "True\n"
     ]
    }
   ],
   "source": [
    "x = 1\n",
    "print(x !=2 and  x <= 1)"
   ],
   "metadata": {
    "collapsed": false,
    "pycharm": {
     "name": "#%%\n"
    }
   }
  },
  {
   "cell_type": "markdown",
   "source": [
    "#### Or\n",
    "Usado para unir 2 comparações, Ao menos 1 dos resultados deve ser verdadeiro para que a comparação deja dada como\n",
    "verdadeira"
   ],
   "metadata": {
    "collapsed": false
   }
  },
  {
   "cell_type": "code",
   "execution_count": 17,
   "outputs": [
    {
     "name": "stdout",
     "output_type": "stream",
     "text": [
      "False\n",
      "True\n"
     ]
    }
   ],
   "source": [
    "x = 2\n",
    "print(x !=2 or  x <= 1)\n",
    "print(x !=1 or  x <= 1)"
   ],
   "metadata": {
    "collapsed": false,
    "pycharm": {
     "name": "#%%\n"
    }
   }
  },
  {
   "cell_type": "markdown",
   "source": [
    "#### Not\n",
    "Usado para negar um valor"
   ],
   "metadata": {
    "collapsed": false
   }
  },
  {
   "cell_type": "code",
   "execution_count": 18,
   "outputs": [
    {
     "name": "stdout",
     "output_type": "stream",
     "text": [
      "True\n"
     ]
    }
   ],
   "source": [
    "x = 2\n",
    "print(not x !=2)"
   ],
   "metadata": {
    "collapsed": false,
    "pycharm": {
     "name": "#%%\n"
    }
   }
  }
 ],
 "metadata": {
  "kernelspec": {
   "name": "pycharm-b48a89ed",
   "language": "python",
   "display_name": "PyCharm (pythonCo3r)"
  },
  "language_info": {
   "codemirror_mode": {
    "name": "ipython",
    "version": 2
   },
   "file_extension": ".py",
   "mimetype": "text/x-python",
   "name": "python",
   "nbconvert_exporter": "python",
   "pygments_lexer": "ipython2",
   "version": "2.7.6"
  }
 },
 "nbformat": 4,
 "nbformat_minor": 0
}