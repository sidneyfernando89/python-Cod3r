{
 "cells": [
  {
   "cell_type": "markdown",
   "metadata": {
    "collapsed": true,
    "pycharm": {
     "name": "#%% md\n"
    }
   },
   "source": [
    "# Listas\n",
    "\n",
    "Uma lista (list) em Python é uma sequência ou coleção ordenada de valores. Cada valor na lista é identificado por um\n",
    "índice. O valores que formam uma lista são chamados elementos ou itens. Listas são similares a strings, que são uma\n",
    "sequência de caracteres, no entanto, diferentemente de strings, os itens de uma lista podem ser de tipos diferentes."
   ]
  },
  {
   "cell_type": "markdown",
   "source": [
    "## Lista\n",
    "A forma mais simples de atribuir uma lista é através dos colchetes []. Uma lista vazia pode ser atribuída através de\n",
    "colchetes varios."
   ],
   "metadata": {
    "collapsed": false
   }
  },
  {
   "cell_type": "code",
   "execution_count": 25,
   "outputs": [
    {
     "name": "stdout",
     "output_type": "stream",
     "text": [
      "Aqui está sua lista []\n",
      "Aqui está outra lista ['Laura', 'Luiz', 'Miguel']\n"
     ]
    }
   ],
   "source": [
    "lista = []\n",
    "print(f\"Aqui está sua lista {lista}\")\n",
    "\n",
    "lista2 = ['Laura', 'Luiz', 'Miguel']\n",
    "print(f\"Aqui está outra lista {lista2}\")"
   ],
   "metadata": {
    "collapsed": false,
    "pycharm": {
     "name": "#%%\n"
    }
   }
  },
  {
   "cell_type": "markdown",
   "source": [
    "## Lista de Listas\n",
    "É possível criar uma lista de listas, ou seja, uma lista dentro de outra lista."
   ],
   "metadata": {
    "collapsed": false
   }
  },
  {
   "cell_type": "code",
   "execution_count": 27,
   "outputs": [
    {
     "name": "stdout",
     "output_type": "stream",
     "text": [
      "Aqui sua lista agora [['Laura', 'Luiz', 'Miguel'], 'Casa', 'Apartamento']\n"
     ]
    }
   ],
   "source": [
    "lista = [lista2, 'Casa', 'Apartamento']\n",
    "print(f\"Aqui sua lista agora {lista}\")"
   ],
   "metadata": {
    "collapsed": false,
    "pycharm": {
     "name": "#%%\n"
    }
   }
  },
  {
   "cell_type": "markdown",
   "source": [
    "## Principais Operações\n",
    "Veremos as principais operações com listas"
   ],
   "metadata": {
    "collapsed": false
   }
  },
  {
   "cell_type": "markdown",
   "source": [
    "### Tamanho de uma lista\n",
    "Retorna o tamanhode uma lista com a função *len*"
   ],
   "metadata": {
    "collapsed": false
   }
  },
  {
   "cell_type": "code",
   "execution_count": 28,
   "outputs": [
    {
     "name": "stdout",
     "output_type": "stream",
     "text": [
      "O tamanho da sua lista é 3\n"
     ]
    }
   ],
   "source": [
    "print(f\"O tamanho da sua lista é {len(lista)}\")"
   ],
   "metadata": {
    "collapsed": false,
    "pycharm": {
     "name": "#%%\n"
    }
   }
  },
  {
   "cell_type": "markdown",
   "source": [
    "### Acessando Elementos\n",
    "Acessar os objetos da lista pode ser feito através o indice do objeto dentro da lista"
   ],
   "metadata": {
    "collapsed": false,
    "pycharm": {
     "name": "#%% md\n"
    }
   }
  },
  {
   "cell_type": "code",
   "execution_count": 29,
   "outputs": [
    {
     "name": "stdout",
     "output_type": "stream",
     "text": [
      " 1 Objeto da lista: ['Laura', 'Luiz', 'Miguel']\n",
      " 2 Objeto da lista: Casa\n"
     ]
    }
   ],
   "source": [
    "print(f\" 1 Objeto da lista: {lista[0]}\")\n",
    "print(f\" 2 Objeto da lista: {lista[1]}\")"
   ],
   "metadata": {
    "collapsed": false,
    "pycharm": {
     "name": "#%%\n"
    }
   }
  },
  {
   "cell_type": "markdown",
   "source": [
    "### Pertinência com *in*\n",
    "Podemos verificar se existe um valor em uma lista através da função *in*"
   ],
   "metadata": {
    "collapsed": false,
    "pycharm": {
     "name": "#%% md\n"
    }
   }
  },
  {
   "cell_type": "code",
   "execution_count": 30,
   "outputs": [
    {
     "name": "stdout",
     "output_type": "stream",
     "text": [
      " Existe o valor na lista\n"
     ]
    }
   ],
   "source": [
    "if 'Casa' in lista:\n",
    "    print(f\" Existe o valor na lista\")\n",
    "else:\n",
    "    print(f\" Não existe\")"
   ],
   "metadata": {
    "collapsed": false,
    "pycharm": {
     "name": "#%%\n"
    }
   }
  },
  {
   "cell_type": "markdown",
   "source": [
    "### Concatenação\n",
    "Podemos juntar listas através da concatenação usando o operador"
   ],
   "metadata": {
    "collapsed": false,
    "pycharm": {
     "name": "#%% md\n"
    }
   }
  },
  {
   "cell_type": "code",
   "execution_count": 11,
   "outputs": [
    {
     "name": "stdout",
     "output_type": "stream",
     "text": [
      "Agora essa é a lista [['Laura', 'Luiz', 'Miguel'], 'Casa', 'Apartamento', 'Laura', 'Luiz', 'Miguel', 'Laura', 'Luiz', 'Miguel']\n"
     ]
    }
   ],
   "source": [
    "lista = lista + lista2\n",
    "print(f\"Agora essa é a lista {lista}\")"
   ],
   "metadata": {
    "collapsed": false,
    "pycharm": {
     "name": "#%%\n"
    }
   }
  },
  {
   "cell_type": "markdown",
   "source": [
    "### Fatiação ou *slice*\n",
    "A operação de slice permite fatiar uma lista e atribuir esse padaço"
   ],
   "metadata": {
    "collapsed": false,
    "pycharm": {
     "name": "#%% md\n"
    }
   }
  },
  {
   "cell_type": "code",
   "execution_count": 34,
   "outputs": [
    {
     "name": "stdout",
     "output_type": "stream",
     "text": [
      " Veja como ficou a lista [['Laura', 'Luiz', 'Miguel'], 'Casa', 'Apartamento']\n",
      " Veja como ficou a lista ['Apartamento']\n",
      " Veja como ficou a lista ['Apartamento']\n"
     ]
    }
   ],
   "source": [
    "lista3 = lista[:3]\n",
    "print(f\" Veja como ficou a lista {lista3}\")\n",
    "\n",
    "lista4 = lista[2:]\n",
    "print(f\" Veja como ficou a lista {lista4}\")\n",
    "\n",
    "lista5 = lista[2:5]\n",
    "print(f\" Veja como ficou a lista {lista4}\")"
   ],
   "metadata": {
    "collapsed": false,
    "pycharm": {
     "name": "#%%\n"
    }
   }
  },
  {
   "cell_type": "markdown",
   "source": [
    "### Mutabilidade\n",
    "Diferentemente de strings, listas são mutáveis. Isto significa que podemos alterar um item em uma lista\n",
    "acessando-o diretamente."
   ],
   "metadata": {
    "collapsed": false
   }
  },
  {
   "cell_type": "code",
   "execution_count": 35,
   "outputs": [
    {
     "name": "stdout",
     "output_type": "stream",
     "text": [
      "Veja como ficou a lista [['Laura', 'Luiz', 'Miguel'], 'Amor', 'Apartamento']\n"
     ]
    }
   ],
   "source": [
    "print(f\"Essa é a sua lista {lista}\")\n",
    "lista[1] = 'Amor';\n",
    "print(f\"Veja como ficou a lista {lista}\")"
   ],
   "metadata": {
    "collapsed": false,
    "pycharm": {
     "name": "#%%\n"
    }
   }
  },
  {
   "cell_type": "markdown",
   "source": [
    "### Remoção de Itens com *del*\n",
    "É possível remover itens da lista através da função *del*"
   ],
   "metadata": {
    "collapsed": false,
    "pycharm": {
     "name": "#%% md\n"
    }
   }
  },
  {
   "cell_type": "code",
   "execution_count": 37,
   "outputs": [
    {
     "name": "stdout",
     "output_type": "stream",
     "text": [
      "Veja sua lista [['Laura', 'Luiz', 'Miguel'], 'Amor', 'Apartamento']\n",
      " Veja como ficou a lista [['Laura', 'Luiz', 'Miguel'], 'Amor']\n"
     ]
    }
   ],
   "source": [
    "print(f\"Veja sua lista {lista}\")\n",
    "del lista[2]\n",
    "print(f\" Veja como ficou a lista {lista}\")"
   ],
   "metadata": {
    "collapsed": false,
    "pycharm": {
     "name": "#%%\n"
    }
   }
  },
  {
   "cell_type": "markdown",
   "source": [
    "## Funções de Listas\n",
    "Existe uma série de funções que podem ser usadas com as listas. Essas funções já estão disponíveis no python"
   ],
   "metadata": {
    "collapsed": false,
    "pycharm": {
     "name": "#%% md\n"
    }
   }
  },
  {
   "cell_type": "code",
   "execution_count": null,
   "outputs": [],
   "source": [],
   "metadata": {
    "collapsed": false,
    "pycharm": {
     "name": "#%%\n"
    }
   }
  },
  {
   "cell_type": "markdown",
   "source": [
    "### append\n",
    "Acrescenta um novo item no final da lista"
   ],
   "metadata": {
    "collapsed": false,
    "pycharm": {
     "name": "#%% md\n"
    }
   }
  },
  {
   "cell_type": "code",
   "execution_count": 38,
   "outputs": [
    {
     "name": "stdout",
     "output_type": "stream",
     "text": [
      "Veja sua lista [['Laura', 'Luiz', 'Miguel'], 'Amor']\n",
      "Veja como ficou sua lista [['Laura', 'Luiz', 'Miguel'], 'Amor', 'Laura']\n"
     ]
    }
   ],
   "source": [
    "print(f\"Veja sua lista {lista}\")\n",
    "lista.append('Laura')\n",
    "print(f\"Veja como ficou sua lista {lista}\")"
   ],
   "metadata": {
    "collapsed": false,
    "pycharm": {
     "name": "#%%\n"
    }
   }
  },
  {
   "cell_type": "markdown",
   "source": [
    "### insert\n",
    "Insere um novo item na posição dada"
   ],
   "metadata": {
    "collapsed": false,
    "pycharm": {
     "name": "#%% md\n"
    }
   }
  },
  {
   "cell_type": "code",
   "execution_count": 45,
   "outputs": [
    {
     "name": "stdout",
     "output_type": "stream",
     "text": [
      "Veja sua lista ['Vida', ['Laura', 'Luiz', 'Miguel'], 'Amor', 'Vida']\n",
      "Veja como ficou sua lista ['Vida', 'Vida', ['Laura', 'Luiz', 'Miguel'], 'Amor', 'Vida']\n"
     ]
    }
   ],
   "source": [
    "print(f\"Veja sua lista {lista}\")\n",
    "lista.insert(1, 'Vida')\n",
    "print(f\"Veja como ficou sua lista {lista}\")"
   ],
   "metadata": {
    "collapsed": false,
    "pycharm": {
     "name": "#%%\n"
    }
   }
  },
  {
   "cell_type": "markdown",
   "source": [
    "### pop\n",
    "Remove o último item"
   ],
   "metadata": {
    "collapsed": false,
    "pycharm": {
     "name": "#%% md\n"
    }
   }
  },
  {
   "cell_type": "code",
   "execution_count": 42,
   "outputs": [
    {
     "name": "stdout",
     "output_type": "stream",
     "text": [
      "Veja sua lista [['Laura', 'Luiz', 'Miguel'], 'Amor', 'Vida', 'Laura']\n",
      "Veja como ficou sua lista [['Laura', 'Luiz', 'Miguel'], 'Amor', 'Vida']\n"
     ]
    }
   ],
   "source": [
    "print(f\"Veja sua lista {lista}\")\n",
    "lista.pop()\n",
    "print(f\"Veja como ficou sua lista {lista}\")"
   ],
   "metadata": {
    "collapsed": false,
    "pycharm": {
     "name": "#%%\n"
    }
   }
  },
  {
   "cell_type": "markdown",
   "source": [
    "### sort\n",
    "Ordena a lista"
   ],
   "metadata": {
    "collapsed": false,
    "pycharm": {
     "name": "#%% md\n"
    }
   }
  },
  {
   "cell_type": "code",
   "execution_count": 46,
   "outputs": [
    {
     "name": "stdout",
     "output_type": "stream",
     "text": [
      "Veja sua lista ['Vida', 'Vida', 'Familia', 'Amor', 'Vida']\n",
      "Veja como ficou sua lista ['Amor', 'Familia', 'Vida', 'Vida', 'Vida']\n"
     ]
    }
   ],
   "source": [
    "lista[2] = 'Familia';\n",
    "print(f\"Veja sua lista {lista}\")\n",
    "lista.sort()\n",
    "print(f\"Veja como ficou sua lista {lista}\")"
   ],
   "metadata": {
    "collapsed": false,
    "pycharm": {
     "name": "#%%\n"
    }
   }
  },
  {
   "cell_type": "markdown",
   "source": [
    "### reverse\n",
    "Ordena a lista em ordem reversa"
   ],
   "metadata": {
    "collapsed": false,
    "pycharm": {
     "name": "#%% md\n"
    }
   }
  },
  {
   "cell_type": "code",
   "execution_count": 47,
   "outputs": [
    {
     "name": "stdout",
     "output_type": "stream",
     "text": [
      "Veja sua lista ['Amor', 'Familia', 'Vida', 'Vida', 'Vida']\n",
      "Veja como ficou sua lista ['Vida', 'Vida', 'Vida', 'Familia', 'Amor']\n"
     ]
    }
   ],
   "source": [
    "print(f\"Veja sua lista {lista}\")\n",
    "lista.reverse()\n",
    "print(f\"Veja como ficou sua lista {lista}\")"
   ],
   "metadata": {
    "collapsed": false,
    "pycharm": {
     "name": "#%%\n"
    }
   }
  },
  {
   "cell_type": "markdown",
   "source": [
    "### index\n",
    "Retorna a posição da primeira ocorrência do item"
   ],
   "metadata": {
    "collapsed": false,
    "pycharm": {
     "name": "#%% md\n"
    }
   }
  },
  {
   "cell_type": "code",
   "execution_count": 52,
   "outputs": [
    {
     "name": "stdout",
     "output_type": "stream",
     "text": [
      "Veja sua lista ['Vida', 'Vida', 'Vida', 'Familia', 'Amor']\n",
      "Veja a posição do item Amor 4\n"
     ]
    }
   ],
   "source": [
    "print(f\"Veja sua lista {lista}\")\n",
    "print(f\"Veja a posição do item Amor {lista.index('Amor')}\")"
   ],
   "metadata": {
    "collapsed": false,
    "pycharm": {
     "name": "#%%\n"
    }
   }
  },
  {
   "cell_type": "markdown",
   "source": [
    "### count\n",
    "Conta a quantidade de ocorrências de um item na lista"
   ],
   "metadata": {
    "collapsed": false,
    "pycharm": {
     "name": "#%% md\n"
    }
   }
  },
  {
   "cell_type": "code",
   "execution_count": 54,
   "outputs": [
    {
     "name": "stdout",
     "output_type": "stream",
     "text": [
      "Veja sua lista ['Vida', 'Vida', 'Vida', 'Familia', 'Amor']\n",
      "Veja a posição do item Amor 1\n"
     ]
    }
   ],
   "source": [
    "print(f\"Veja sua lista {lista}\")\n",
    "print(f\"A quantidade de itens Amor é {lista.count('Amor')}\")"
   ],
   "metadata": {
    "collapsed": false,
    "pycharm": {
     "name": "#%%\n"
    }
   }
  },
  {
   "cell_type": "markdown",
   "source": [
    "### remove\n",
    "Remove um item da lista"
   ],
   "metadata": {
    "collapsed": false,
    "pycharm": {
     "name": "#%% md\n"
    }
   }
  },
  {
   "cell_type": "code",
   "execution_count": 55,
   "outputs": [
    {
     "name": "stdout",
     "output_type": "stream",
     "text": [
      "Veja sua lista ['Vida', 'Vida', 'Vida', 'Familia', 'Amor']\n",
      "Veja como ficou sua lista ['Vida', 'Vida', 'Familia', 'Amor']\n"
     ]
    }
   ],
   "source": [
    "print(f\"Veja sua lista {lista}\")\n",
    "lista.remove(\"Vida\")\n",
    "print(f\"Veja como ficou sua lista {lista}\")"
   ],
   "metadata": {
    "collapsed": false,
    "pycharm": {
     "name": "#%%\n"
    }
   }
  }
 ],
 "metadata": {
  "kernelspec": {
   "display_name": "Python 3",
   "language": "python",
   "name": "python3"
  },
  "language_info": {
   "codemirror_mode": {
    "name": "ipython",
    "version": 2
   },
   "file_extension": ".py",
   "mimetype": "text/x-python",
   "name": "python",
   "nbconvert_exporter": "python",
   "pygments_lexer": "ipython2",
   "version": "2.7.6"
  }
 },
 "nbformat": 4,
 "nbformat_minor": 0
}