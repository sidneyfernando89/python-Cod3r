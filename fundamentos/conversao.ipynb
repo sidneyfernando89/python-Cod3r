{
 "cells": [
  {
   "cell_type": "markdown",
   "source": [
    "# Conversão de Tipos\n",
    "Permite converter o tipo de uma variável para outro formato, esse conceito é usado para evitar erros durante a execução\n",
    "do programa. Python permite que durante o ciclo de vida de execução sua variável assuma diversos tipos de dados, sendo\n",
    "assim uma variável que foi instanciada como inteira pode assumir um valor do tipo texto, nesse caso durante a execução\n",
    "podem ocorrer erros de processamento."
   ],
   "metadata": {
    "collapsed": false
   }
  },
  {
   "cell_type": "code",
   "execution_count": 7,
   "outputs": [
    {
     "name": "stdout",
     "output_type": "stream",
     "text": [
      "<class 'int'> <class 'int'> <class 'int'> <class 'str'>\n",
      "10\n"
     ]
    }
   ],
   "source": [
    "a,b, c, d = 1, 2, 3, '4'\n",
    "print(type(a), type(b), type(c), type(d))\n",
    "print (a + b + c + int(d))"
   ],
   "metadata": {
    "collapsed": false,
    "pycharm": {
     "name": "#%%\n"
    }
   }
  },
  {
   "cell_type": "code",
   "execution_count": 8,
   "outputs": [
    {
     "name": "stdout",
     "output_type": "stream",
     "text": [
      "44444444\n"
     ]
    }
   ],
   "source": [
    "print(d * 8)"
   ],
   "metadata": {
    "collapsed": false,
    "pycharm": {
     "name": "#%%\n"
    }
   }
  },
  {
   "cell_type": "markdown",
   "source": [
    "A variável d foi inicializada com o valor '4', esse valor é uma string como é apresentado no comando type. Ao executar a\n",
    "operação de soma sem a conversão de valor o sistema irá apresentar um erro de execução pois em python não é possivel\n",
    "somar inteiros com textos, nesse sentido a variável foi convertida para inteiro antes de realizar a soma.\n",
    "\n",
    "Um ponto de atenção é o valor da conversão que está sendo realizado, a conversão somente será realizada se o dado que\n",
    "está sendo convertido é passivel de conversão.\n",
    "\n",
    "*Nota1*: Nem todas as operações de python apresentam erros com textos, um exemplo disso é a multiplicação, pois ao\n",
    "executar essa operação com um texto, ocorre-rá a repetição do mesmo."
   ],
   "metadata": {
    "collapsed": false,
    "pycharm": {
     "name": "#%% md\n"
    }
   }
  }
 ],
 "metadata": {
  "kernelspec": {
   "display_name": "Python 3",
   "language": "python",
   "name": "python3"
  },
  "language_info": {
   "codemirror_mode": {
    "name": "ipython",
    "version": 2
   },
   "file_extension": ".py",
   "mimetype": "text/x-python",
   "name": "python",
   "nbconvert_exporter": "python",
   "pygments_lexer": "ipython2",
   "version": "2.7.6"
  }
 },
 "nbformat": 4,
 "nbformat_minor": 0
}