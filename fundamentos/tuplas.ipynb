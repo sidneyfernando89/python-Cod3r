{
 "cells": [
  {
   "cell_type": "markdown",
   "metadata": {
    "collapsed": true,
    "pycharm": {
     "name": "#%% md\n"
    }
   },
   "source": [
    "# Tuplas\n",
    "Tuplas em python trabalham como se fosse listas. As tuplas diferente das listas são imutáveis, não permitindo\n",
    "modificações após sua definição.\n",
    "\n",
    "# Definição Tupla\n",
    "A sintaxe de criação de tuplas é (…​, …​, …​), ou …​, …​, conforme mostrado nos exemplos abaixo"
   ]
  },
  {
   "cell_type": "code",
   "execution_count": null,
   "outputs": [],
   "source": [
    "tupla = 1 ,2 ,3, 4, 5, 6, 7, 8, 9, 10\n",
    "tupla2 = (1, 2 , 3, 4, 5)"
   ],
   "metadata": {
    "collapsed": false,
    "pycharm": {
     "name": "#%%"
    }
   }
  },
  {
   "cell_type": "markdown",
   "source": [
    "## Principais Operações\n",
    "As principais operações são similares as listas mas não é possível atribuição e remoçaõ de valores.\n"
   ],
   "metadata": {
    "collapsed": false,
    "pycharm": {
     "name": "#%% md\n"
    }
   }
  }
 ],
 "metadata": {
  "kernelspec": {
   "display_name": "Python 3",
   "language": "python",
   "name": "python3"
  },
  "language_info": {
   "codemirror_mode": {
    "name": "ipython",
    "version": 2
   },
   "file_extension": ".py",
   "mimetype": "text/x-python",
   "name": "python",
   "nbconvert_exporter": "python",
   "pygments_lexer": "ipython2",
   "version": "2.7.6"
  }
 },
 "nbformat": 4,
 "nbformat_minor": 0
}