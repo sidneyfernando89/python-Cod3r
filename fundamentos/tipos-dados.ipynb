{
 "cells": [
  {
   "cell_type": "markdown",
   "metadata": {
    "collapsed": true,
    "pycharm": {
     "name": "#%% md\n"
    }
   },
   "source": [
    "# Tipos de Dados da Linguagem\n",
    "Em python é uma linguagem dinamica isso permite que o interpretador defina o tipo da variável, mas os tipos de dados são\n",
    "fortemente tipados, isso quer dizer que o interpretador não consegue realizar algumas operações por conta dos tipos de\n",
    "dados das variáveis. Existe um ponto de atenção nesse caso pois durante a execução do programa o tipo de variável pode ser\n",
    "alterador, isso pode ocarionar erros inesperados para o caso de você esperar um tipo especifico de dados.\n",
    "\n",
    "Veja abaixo alguns dos tipos mais comuns de dados."
   ]
  },
  {
   "cell_type": "markdown",
   "source": [
    "Booleano"
   ],
   "metadata": {
    "collapsed": false
   }
  },
  {
   "cell_type": "code",
   "execution_count": null,
   "outputs": [],
   "source": [
    "g = True\n",
    "print(type(g))\n",
    "h = False\n",
    "print(type(h))\n"
   ],
   "metadata": {
    "collapsed": false,
    "pycharm": {
     "name": "#%%\n"
    }
   }
  },
  {
   "cell_type": "markdown",
   "source": [
    "###Inteiro\n",
    "Variáveis do tipo inteiro são compostas por valores numéricos do Conjunto dos Números Inteiros (Z)"
   ],
   "metadata": {
    "collapsed": false
   }
  },
  {
   "cell_type": "code",
   "execution_count": 9,
   "outputs": [
    {
     "name": "stdout",
     "output_type": "stream",
     "text": [
      "<class 'int'>\n",
      "<class 'int'>\n"
     ]
    }
   ],
   "source": [
    "a = 1\n",
    "print(type(a))\n",
    "a  = 1\n",
    "print(type(a))"
   ],
   "metadata": {
    "collapsed": false,
    "pycharm": {
     "name": "#%%\n"
    }
   }
  },
  {
   "cell_type": "markdown",
   "source": [
    "###Float\n",
    "Variáveis do tipo float são compostas por valores numéricos do Conjunto dos Números Racionais (Q)"
   ],
   "metadata": {
    "collapsed": false
   }
  },
  {
   "cell_type": "code",
   "execution_count": 10,
   "outputs": [
    {
     "name": "stdout",
     "output_type": "stream",
     "text": [
      "<class 'float'>\n",
      "<class 'float'>\n"
     ]
    }
   ],
   "source": [
    "b = 1.2\n",
    "print(type(b))\n",
    "b = 1.2\n",
    "print(type(b))"
   ],
   "metadata": {
    "collapsed": false,
    "pycharm": {
     "name": "#%%\n"
    }
   }
  },
  {
   "cell_type": "markdown",
   "source": [
    "###String\n",
    "Variáveis do tipo string são comportas por letras e caracteres especiais. Na linguagem elas são definidas através do uso\n",
    "de aspas duplas (\\\") ou simples (\\')"
   ],
   "metadata": {
    "collapsed": false
   }
  },
  {
   "cell_type": "code",
   "execution_count": 12,
   "outputs": [
    {
     "name": "stdout",
     "output_type": "stream",
     "text": [
      "<class 'str'>\n",
      "<class 'str'>\n"
     ]
    }
   ],
   "source": [
    "c = 'A'\n",
    "print(type(c))\n",
    "c = \"Eita pleura\"\n",
    "print(type(c))"
   ],
   "metadata": {
    "collapsed": false,
    "pycharm": {
     "name": "#%%\n"
    }
   }
  },
  {
   "cell_type": "markdown",
   "source": [
    "###Lista\n",
    "Listas em python são compostas com conjuntos de valores. Uma lista é uma sequência mutável e ordenada de itens.\n",
    "Uma lista pode possuir tipos de dados diferentes,  e seus elementos podem ser acessados através do indice, também é\n",
    "possível incluir, remover e alterar itens em uma lista."
   ],
   "metadata": {
    "collapsed": false
   }
  },
  {
   "cell_type": "code",
   "execution_count": 13,
   "outputs": [
    {
     "name": "stdout",
     "output_type": "stream",
     "text": [
      "<class 'list'>\n",
      "<class 'list'>\n"
     ]
    }
   ],
   "source": [
    "d = [1, 2, 3]\n",
    "print(type(d))\n",
    "d = ['Um', 2, 'III']\n",
    "print(type(d))"
   ],
   "metadata": {
    "collapsed": false,
    "pycharm": {
     "name": "#%%\n"
    }
   }
  },
  {
   "cell_type": "markdown",
   "source": [
    "###Dionario\n",
    "Dicionários são formatos por chave e valor e podem possuir valores diversos. As chaves podem ser numericas ou textuais."
   ],
   "metadata": {
    "collapsed": false
   }
  },
  {
   "cell_type": "code",
   "execution_count": 19,
   "outputs": [
    {
     "name": "stdout",
     "output_type": "stream",
     "text": [
      "<class 'dict'>\n",
      "<class 'dict'>\n"
     ]
    }
   ],
   "source": [
    "e = {a: '1', b:3}\n",
    "print(type(e))\n",
    "e = {'nome': 'Jorge', 'idade': 55}\n",
    "print(type(e))"
   ],
   "metadata": {
    "collapsed": false,
    "pycharm": {
     "name": "#%%\n"
    }
   }
  },
  {
   "cell_type": "markdown",
   "source": [
    "###Tuplas\n",
    "Tuplas são muito parecidas com listas mas em suma possuem finalidades diferentes. Diferente de uma lista os valores das\n",
    "tuplas são imutáveis. Não é possível atribuir aos itens individuais de uma tupla, no entanto, é possível criar tuplas\n",
    "que contêm objetos mutáveis, como listas"
   ],
   "metadata": {
    "collapsed": false
   }
  },
  {
   "cell_type": "code",
   "execution_count": 15,
   "outputs": [
    {
     "name": "stdout",
     "output_type": "stream",
     "text": [
      "<class 'tuple'>\n",
      "<class 'tuple'>\n"
     ]
    }
   ],
   "source": [
    "f = (1 ,2, 3)\n",
    "print(type(f))\n",
    "f = 1, 2, 3, 4\n",
    "print(type(f))"
   ],
   "metadata": {
    "collapsed": false,
    "pycharm": {
     "name": "#%%\n"
    }
   }
  },
  {
   "cell_type": "markdown",
   "source": [
    "###Sets\n",
    "Sets são conjuntos de dados.Um conjunto é uma coleção não ordenada sem elementos duplicados. Os usos básicos incluem\n",
    "teste de associação e eliminação de entradas duplicadas. Objetos de conjunto também suportam operações matemáticas como união, interseção, diferença e diferença simétrica."
   ],
   "metadata": {
    "collapsed": false
   }
  },
  {
   "cell_type": "code",
   "execution_count": 18,
   "outputs": [
    {
     "name": "stdout",
     "output_type": "stream",
     "text": [
      "<class 'set'>\n"
     ]
    }
   ],
   "source": [
    "f = {\"apple\", \"banana\", \"cherry\", \"apple\"}\n",
    "print(type(f))"
   ],
   "metadata": {
    "collapsed": false,
    "pycharm": {
     "name": "#%%\n"
    }
   }
  }
 ],
 "metadata": {
  "kernelspec": {
   "display_name": "Python 3",
   "language": "python",
   "name": "python3"
  },
  "language_info": {
   "codemirror_mode": {
    "name": "ipython",
    "version": 2
   },
   "file_extension": ".py",
   "mimetype": "text/x-python",
   "name": "python",
   "nbconvert_exporter": "python",
   "pygments_lexer": "ipython2",
   "version": "2.7.6"
  }
 },
 "nbformat": 4,
 "nbformat_minor": 0
}