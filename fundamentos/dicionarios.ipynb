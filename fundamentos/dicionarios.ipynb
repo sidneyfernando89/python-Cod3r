{
 "cells": [
  {
   "cell_type": "markdown",
   "metadata": {
    "collapsed": true,
    "pycharm": {
     "name": "#%% md\n"
    }
   },
   "source": [
    "# Dicionários\n",
    "Dicionário é um tipo diferente de coleção. Ele é um tipo de mapeamento nativo do Python. Um mapa é uma coleção\n",
    "associativa desordenada. A associação, ou mapeamento, é feita a partir de uma chave, que pode ser qualquer tipo imutável, para um valor, que pode ser qualquer objeto de dados do Python.\n",
    "\n",
    "# Definição Dicionário\n",
    "Um dicionário pode ser definido através do uso de *{}*"
   ]
  },
  {
   "cell_type": "code",
   "execution_count": 2,
   "outputs": [],
   "source": [
    "dicionario = {}\n",
    "dicionario2 = {'nome': 'Luiz Fernando', 'sobrenome':'Lopes Almeida', 'parentesco':'Filho'}\n"
   ],
   "metadata": {
    "collapsed": false,
    "pycharm": {
     "name": "#%%"
    }
   }
  },
  {
   "cell_type": "markdown",
   "source": [
    "## Principais Operações\n",
    "Dicionários possuem vários métodos nativos úteis."
   ],
   "metadata": {
    "collapsed": false
   }
  },
  {
   "cell_type": "markdown",
   "source": [
    "### Imprimindo valores\n",
    "Os valores podem ser impessos através da chave, ou realizando a impressao do dicionário inteiro"
   ],
   "metadata": {
    "collapsed": false
   }
  },
  {
   "cell_type": "code",
   "execution_count": 4,
   "outputs": [
    {
     "name": "stdout",
     "output_type": "stream",
     "text": [
      "{}\n",
      "{'nome': 'Luiz Fernando', 'sobrenome': 'Lopes Almeida', 'parentesco': 'Filho'}\n",
      "Luiz Fernando\n"
     ]
    }
   ],
   "source": [
    "print(dicionario)\n",
    "print(dicionario2)\n",
    "print(dicionario2['nome'])\n"
   ],
   "metadata": {
    "collapsed": false,
    "pycharm": {
     "name": "#%%\n"
    }
   }
  },
  {
   "cell_type": "markdown",
   "source": [
    "### Função *key*\n",
    "Retorna as chaves de um dicionário"
   ],
   "metadata": {
    "collapsed": false,
    "pycharm": {
     "name": "#%% md\n"
    }
   }
  },
  {
   "cell_type": "code",
   "execution_count": 8,
   "outputs": [
    {
     "name": "stdout",
     "output_type": "stream",
     "text": [
      "dict_keys(['nome', 'sobrenome', 'parentesco'])\n"
     ]
    }
   ],
   "source": [
    "print(dicionario2.keys())"
   ],
   "metadata": {
    "collapsed": false,
    "pycharm": {
     "name": "#%%\n"
    }
   }
  },
  {
   "cell_type": "markdown",
   "source": [
    "### Função *values*\n",
    "Returna os valores do dicionário"
   ],
   "metadata": {
    "collapsed": false
   }
  },
  {
   "cell_type": "code",
   "execution_count": 9,
   "outputs": [
    {
     "name": "stdout",
     "output_type": "stream",
     "text": [
      "dict_values(['Luiz Fernando', 'Lopes Almeida', 'Filho'])\n"
     ]
    }
   ],
   "source": [
    "print(dicionario2.values())"
   ],
   "metadata": {
    "collapsed": false,
    "pycharm": {
     "name": "#%%\n"
    }
   }
  },
  {
   "cell_type": "markdown",
   "source": [
    "### Função *items*\n",
    "Retorna as chaves e valor de um dicionário"
   ],
   "metadata": {
    "collapsed": false
   }
  },
  {
   "cell_type": "code",
   "execution_count": 10,
   "outputs": [
    {
     "name": "stdout",
     "output_type": "stream",
     "text": [
      "dict_items([('nome', 'Luiz Fernando'), ('sobrenome', 'Lopes Almeida'), ('parentesco', 'Filho')])\n"
     ]
    }
   ],
   "source": [
    "print(dicionario2.items())"
   ],
   "metadata": {
    "collapsed": false,
    "pycharm": {
     "name": "#%%\n"
    }
   }
  },
  {
   "cell_type": "markdown",
   "source": [
    "### Função *get*\n",
    "Retorna o valor associado a uma chave"
   ],
   "metadata": {
    "collapsed": false
   }
  },
  {
   "cell_type": "code",
   "execution_count": 11,
   "outputs": [
    {
     "name": "stdout",
     "output_type": "stream",
     "text": [
      "Luiz Fernando\n"
     ]
    }
   ],
   "source": [
    "print(dicionario2.get('nome'))\n"
   ],
   "metadata": {
    "collapsed": false,
    "pycharm": {
     "name": "#%%\n"
    }
   }
  },
  {
   "cell_type": "markdown",
   "source": [
    "### Função *in*\n",
    "Retorna se existe um objeto dentro do dicionário"
   ],
   "metadata": {
    "collapsed": false
   }
  },
  {
   "cell_type": "code",
   "execution_count": 12,
   "outputs": [
    {
     "name": "stdout",
     "output_type": "stream",
     "text": [
      "Nenhum resultado encontrado\n"
     ]
    }
   ],
   "source": [
    "if 'Luiz' in dicionario2:\n",
    "    print(f'Resultado encontrado.')\n",
    "else:\n",
    "    print(f'Nenhum resultado encontrado')"
   ],
   "metadata": {
    "collapsed": false,
    "pycharm": {
     "name": "#%%\n"
    }
   }
  }
 ],
 "metadata": {
  "kernelspec": {
   "display_name": "Python 3",
   "language": "python",
   "name": "python3"
  },
  "language_info": {
   "codemirror_mode": {
    "name": "ipython",
    "version": 2
   },
   "file_extension": ".py",
   "mimetype": "text/x-python",
   "name": "python",
   "nbconvert_exporter": "python",
   "pygments_lexer": "ipython2",
   "version": "2.7.6"
  }
 },
 "nbformat": 4,
 "nbformat_minor": 0
}